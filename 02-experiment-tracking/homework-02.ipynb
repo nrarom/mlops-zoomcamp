{
 "cells": [
  {
   "cell_type": "markdown",
   "metadata": {},
   "source": [
    "# Q1"
   ]
  },
  {
   "cell_type": "code",
   "execution_count": 1,
   "metadata": {},
   "outputs": [
    {
     "name": "stdout",
     "output_type": "stream",
     "text": [
      "Collecting mlflow==2.3.2\n",
      "  Using cached mlflow-2.3.2-py3-none-any.whl.metadata (12 kB)\n",
      "Requirement already satisfied: scikit-learn==1.2.2 in c:\\users\\ioan.morar\\miniconda3\\envs\\mlops\\lib\\site-packages (1.2.2)\n",
      "Requirement already satisfied: click<9,>=7.0 in c:\\users\\ioan.morar\\appdata\\roaming\\python\\python310\\site-packages (from mlflow==2.3.2) (8.1.7)\n",
      "Requirement already satisfied: cloudpickle<3 in c:\\users\\ioan.morar\\miniconda3\\envs\\mlops\\lib\\site-packages (from mlflow==2.3.2) (2.2.1)\n",
      "Collecting databricks-cli<1,>=0.8.7 (from mlflow==2.3.2)\n",
      "  Using cached databricks_cli-0.18.0-py2.py3-none-any.whl.metadata (4.0 kB)\n",
      "Requirement already satisfied: entrypoints<1 in c:\\users\\ioan.morar\\miniconda3\\envs\\mlops\\lib\\site-packages (from mlflow==2.3.2) (0.4)\n",
      "Requirement already satisfied: gitpython<4,>=2.1.0 in c:\\users\\ioan.morar\\miniconda3\\envs\\mlops\\lib\\site-packages (from mlflow==2.3.2) (3.1.43)\n",
      "Requirement already satisfied: pyyaml<7,>=5.1 in c:\\users\\ioan.morar\\miniconda3\\envs\\mlops\\lib\\site-packages (from mlflow==2.3.2) (6.0.1)\n",
      "Requirement already satisfied: protobuf<5,>=3.12.0 in c:\\users\\ioan.morar\\miniconda3\\envs\\mlops\\lib\\site-packages (from mlflow==2.3.2) (4.25.3)\n",
      "Requirement already satisfied: pytz<2024 in c:\\users\\ioan.morar\\miniconda3\\envs\\mlops\\lib\\site-packages (from mlflow==2.3.2) (2023.4)\n",
      "Requirement already satisfied: requests<3,>=2.17.3 in c:\\users\\ioan.morar\\miniconda3\\envs\\mlops\\lib\\site-packages (from mlflow==2.3.2) (2.32.3)\n",
      "Requirement already satisfied: packaging<24 in c:\\users\\ioan.morar\\appdata\\roaming\\python\\python310\\site-packages (from mlflow==2.3.2) (23.1)\n",
      "Requirement already satisfied: importlib-metadata!=4.7.0,<7,>=3.7.0 in c:\\users\\ioan.morar\\miniconda3\\envs\\mlops\\lib\\site-packages (from mlflow==2.3.2) (6.11.0)\n",
      "Requirement already satisfied: sqlparse<1,>=0.4.0 in c:\\users\\ioan.morar\\miniconda3\\envs\\mlops\\lib\\site-packages (from mlflow==2.3.2) (0.5.0)\n",
      "Requirement already satisfied: alembic!=1.10.0,<2 in c:\\users\\ioan.morar\\miniconda3\\envs\\mlops\\lib\\site-packages (from mlflow==2.3.2) (1.13.1)\n",
      "Collecting docker<7,>=4.0.0 (from mlflow==2.3.2)\n",
      "  Using cached docker-6.1.3-py3-none-any.whl.metadata (3.5 kB)\n",
      "Collecting Flask<3 (from mlflow==2.3.2)\n",
      "  Using cached flask-2.3.3-py3-none-any.whl.metadata (3.6 kB)\n",
      "Requirement already satisfied: numpy<2 in c:\\users\\ioan.morar\\miniconda3\\envs\\mlops\\lib\\site-packages (from mlflow==2.3.2) (1.26.4)\n",
      "Requirement already satisfied: scipy<2 in c:\\users\\ioan.morar\\miniconda3\\envs\\mlops\\lib\\site-packages (from mlflow==2.3.2) (1.13.1)\n",
      "Requirement already satisfied: pandas<3 in c:\\users\\ioan.morar\\miniconda3\\envs\\mlops\\lib\\site-packages (from mlflow==2.3.2) (2.2.2)\n",
      "Requirement already satisfied: querystring-parser<2 in c:\\users\\ioan.morar\\miniconda3\\envs\\mlops\\lib\\site-packages (from mlflow==2.3.2) (1.2.4)\n",
      "Requirement already satisfied: sqlalchemy<3,>=1.4.0 in c:\\users\\ioan.morar\\miniconda3\\envs\\mlops\\lib\\site-packages (from mlflow==2.3.2) (2.0.30)\n",
      "Requirement already satisfied: pyarrow<12,>=4.0.0 in c:\\users\\ioan.morar\\miniconda3\\envs\\mlops\\lib\\site-packages (from mlflow==2.3.2) (11.0.0)\n",
      "Requirement already satisfied: markdown<4,>=3.3 in c:\\users\\ioan.morar\\miniconda3\\envs\\mlops\\lib\\site-packages (from mlflow==2.3.2) (3.6)\n",
      "Requirement already satisfied: matplotlib<4 in c:\\users\\ioan.morar\\miniconda3\\envs\\mlops\\lib\\site-packages (from mlflow==2.3.2) (3.9.0)\n",
      "Requirement already satisfied: waitress<3 in c:\\users\\ioan.morar\\miniconda3\\envs\\mlops\\lib\\site-packages (from mlflow==2.3.2) (2.1.2)\n",
      "Requirement already satisfied: Jinja2<4,>=3.0 in c:\\users\\ioan.morar\\miniconda3\\envs\\mlops\\lib\\site-packages (from mlflow==2.3.2) (3.1.4)\n",
      "Requirement already satisfied: joblib>=1.1.1 in c:\\users\\ioan.morar\\miniconda3\\envs\\mlops\\lib\\site-packages (from scikit-learn==1.2.2) (1.4.2)\n",
      "Requirement already satisfied: threadpoolctl>=2.0.0 in c:\\users\\ioan.morar\\miniconda3\\envs\\mlops\\lib\\site-packages (from scikit-learn==1.2.2) (3.5.0)\n",
      "Requirement already satisfied: Mako in c:\\users\\ioan.morar\\miniconda3\\envs\\mlops\\lib\\site-packages (from alembic!=1.10.0,<2->mlflow==2.3.2) (1.3.5)\n",
      "Requirement already satisfied: typing-extensions>=4 in c:\\users\\ioan.morar\\miniconda3\\envs\\mlops\\lib\\site-packages (from alembic!=1.10.0,<2->mlflow==2.3.2) (4.12.0)\n",
      "Requirement already satisfied: colorama in c:\\users\\ioan.morar\\appdata\\roaming\\python\\python310\\site-packages (from click<9,>=7.0->mlflow==2.3.2) (0.4.6)\n",
      "Requirement already satisfied: pyjwt>=1.7.0 in c:\\users\\ioan.morar\\miniconda3\\envs\\mlops\\lib\\site-packages (from databricks-cli<1,>=0.8.7->mlflow==2.3.2) (2.8.0)\n",
      "Requirement already satisfied: oauthlib>=3.1.0 in c:\\users\\ioan.morar\\miniconda3\\envs\\mlops\\lib\\site-packages (from databricks-cli<1,>=0.8.7->mlflow==2.3.2) (3.2.2)\n",
      "Requirement already satisfied: tabulate>=0.7.7 in c:\\users\\ioan.morar\\miniconda3\\envs\\mlops\\lib\\site-packages (from databricks-cli<1,>=0.8.7->mlflow==2.3.2) (0.9.0)\n",
      "Requirement already satisfied: six>=1.10.0 in c:\\users\\ioan.morar\\miniconda3\\envs\\mlops\\lib\\site-packages (from databricks-cli<1,>=0.8.7->mlflow==2.3.2) (1.16.0)\n",
      "Requirement already satisfied: urllib3<3,>=1.26.7 in c:\\users\\ioan.morar\\miniconda3\\envs\\mlops\\lib\\site-packages (from databricks-cli<1,>=0.8.7->mlflow==2.3.2) (2.2.1)\n",
      "Requirement already satisfied: websocket-client>=0.32.0 in c:\\users\\ioan.morar\\miniconda3\\envs\\mlops\\lib\\site-packages (from docker<7,>=4.0.0->mlflow==2.3.2) (1.8.0)\n",
      "Requirement already satisfied: pywin32>=304 in c:\\users\\ioan.morar\\appdata\\roaming\\python\\python310\\site-packages (from docker<7,>=4.0.0->mlflow==2.3.2) (306)\n",
      "Requirement already satisfied: Werkzeug>=2.3.7 in c:\\users\\ioan.morar\\miniconda3\\envs\\mlops\\lib\\site-packages (from Flask<3->mlflow==2.3.2) (3.0.3)\n",
      "Requirement already satisfied: itsdangerous>=2.1.2 in c:\\users\\ioan.morar\\miniconda3\\envs\\mlops\\lib\\site-packages (from Flask<3->mlflow==2.3.2) (2.2.0)\n",
      "Requirement already satisfied: blinker>=1.6.2 in c:\\users\\ioan.morar\\miniconda3\\envs\\mlops\\lib\\site-packages (from Flask<3->mlflow==2.3.2) (1.8.2)\n",
      "Requirement already satisfied: gitdb<5,>=4.0.1 in c:\\users\\ioan.morar\\miniconda3\\envs\\mlops\\lib\\site-packages (from gitpython<4,>=2.1.0->mlflow==2.3.2) (4.0.11)\n",
      "Requirement already satisfied: zipp>=0.5 in c:\\users\\ioan.morar\\miniconda3\\envs\\mlops\\lib\\site-packages (from importlib-metadata!=4.7.0,<7,>=3.7.0->mlflow==2.3.2) (3.19.0)\n",
      "Requirement already satisfied: MarkupSafe>=2.0 in c:\\users\\ioan.morar\\miniconda3\\envs\\mlops\\lib\\site-packages (from Jinja2<4,>=3.0->mlflow==2.3.2) (2.1.5)\n",
      "Requirement already satisfied: contourpy>=1.0.1 in c:\\users\\ioan.morar\\miniconda3\\envs\\mlops\\lib\\site-packages (from matplotlib<4->mlflow==2.3.2) (1.2.1)\n",
      "Requirement already satisfied: cycler>=0.10 in c:\\users\\ioan.morar\\miniconda3\\envs\\mlops\\lib\\site-packages (from matplotlib<4->mlflow==2.3.2) (0.12.1)\n",
      "Requirement already satisfied: fonttools>=4.22.0 in c:\\users\\ioan.morar\\miniconda3\\envs\\mlops\\lib\\site-packages (from matplotlib<4->mlflow==2.3.2) (4.52.4)\n",
      "Requirement already satisfied: kiwisolver>=1.3.1 in c:\\users\\ioan.morar\\miniconda3\\envs\\mlops\\lib\\site-packages (from matplotlib<4->mlflow==2.3.2) (1.4.5)\n",
      "Requirement already satisfied: pillow>=8 in c:\\users\\ioan.morar\\miniconda3\\envs\\mlops\\lib\\site-packages (from matplotlib<4->mlflow==2.3.2) (10.3.0)\n",
      "Requirement already satisfied: pyparsing>=2.3.1 in c:\\users\\ioan.morar\\miniconda3\\envs\\mlops\\lib\\site-packages (from matplotlib<4->mlflow==2.3.2) (3.1.2)\n",
      "Requirement already satisfied: python-dateutil>=2.7 in c:\\users\\ioan.morar\\appdata\\roaming\\python\\python310\\site-packages (from matplotlib<4->mlflow==2.3.2) (2.8.2)\n",
      "Requirement already satisfied: tzdata>=2022.7 in c:\\users\\ioan.morar\\miniconda3\\envs\\mlops\\lib\\site-packages (from pandas<3->mlflow==2.3.2) (2024.1)\n",
      "Requirement already satisfied: charset-normalizer<4,>=2 in c:\\users\\ioan.morar\\miniconda3\\envs\\mlops\\lib\\site-packages (from requests<3,>=2.17.3->mlflow==2.3.2) (3.3.2)\n",
      "Requirement already satisfied: idna<4,>=2.5 in c:\\users\\ioan.morar\\miniconda3\\envs\\mlops\\lib\\site-packages (from requests<3,>=2.17.3->mlflow==2.3.2) (3.7)\n",
      "Requirement already satisfied: certifi>=2017.4.17 in c:\\users\\ioan.morar\\miniconda3\\envs\\mlops\\lib\\site-packages (from requests<3,>=2.17.3->mlflow==2.3.2) (2024.2.2)\n",
      "Requirement already satisfied: greenlet!=0.4.17 in c:\\users\\ioan.morar\\miniconda3\\envs\\mlops\\lib\\site-packages (from sqlalchemy<3,>=1.4.0->mlflow==2.3.2) (3.0.3)\n",
      "Requirement already satisfied: smmap<6,>=3.0.1 in c:\\users\\ioan.morar\\miniconda3\\envs\\mlops\\lib\\site-packages (from gitdb<5,>=4.0.1->gitpython<4,>=2.1.0->mlflow==2.3.2) (5.0.1)\n",
      "Using cached mlflow-2.3.2-py3-none-any.whl (17.7 MB)\n",
      "Using cached databricks_cli-0.18.0-py2.py3-none-any.whl (150 kB)\n",
      "Using cached docker-6.1.3-py3-none-any.whl (148 kB)\n",
      "Using cached flask-2.3.3-py3-none-any.whl (96 kB)\n",
      "Installing collected packages: Flask, docker, databricks-cli, mlflow\n",
      "  Attempting uninstall: Flask\n",
      "    Found existing installation: Flask 3.0.3\n",
      "    Uninstalling Flask-3.0.3:\n",
      "      Successfully uninstalled Flask-3.0.3\n",
      "  Attempting uninstall: docker\n",
      "    Found existing installation: docker 7.1.0\n",
      "    Uninstalling docker-7.1.0:\n",
      "      Successfully uninstalled docker-7.1.0\n",
      "  Attempting uninstall: mlflow\n",
      "    Found existing installation: mlflow 2.13.0\n",
      "    Uninstalling mlflow-2.13.0:\n",
      "      Successfully uninstalled mlflow-2.13.0\n",
      "Successfully installed Flask-2.3.3 databricks-cli-0.18.0 docker-6.1.3 mlflow-2.3.2\n",
      "Note: you may need to restart the kernel to use updated packages.\n"
     ]
    },
    {
     "name": "stderr",
     "output_type": "stream",
     "text": [
      "WARNING: Ignoring invalid distribution -lflow (c:\\users\\ioan.morar\\miniconda3\\envs\\mlops\\lib\\site-packages)\n",
      "WARNING: Ignoring invalid distribution -lflow (c:\\users\\ioan.morar\\miniconda3\\envs\\mlops\\lib\\site-packages)\n"
     ]
    }
   ],
   "source": [
    "%pip install mlflow==2.3.2 scikit-learn==1.2.2"
   ]
  },
  {
   "cell_type": "code",
   "execution_count": 2,
   "metadata": {},
   "outputs": [
    {
     "data": {
      "text/plain": [
       "'2.3.2'"
      ]
     },
     "execution_count": 2,
     "metadata": {},
     "output_type": "execute_result"
    }
   ],
   "source": [
    "import mlflow\n",
    "\n",
    "mlflow.__version__"
   ]
  },
  {
   "cell_type": "code",
   "execution_count": 3,
   "metadata": {},
   "outputs": [
    {
     "data": {
      "text/plain": [
       "'1.2.2'"
      ]
     },
     "execution_count": 3,
     "metadata": {},
     "output_type": "execute_result"
    }
   ],
   "source": [
    "import sklearn\n",
    "\n",
    "sklearn.__version__"
   ]
  },
  {
   "cell_type": "markdown",
   "metadata": {},
   "source": [
    "# Q2\n",
    "\n",
    "Done by running the script <code>preprocess_data.py</code> using the following terminal command: <br>\n",
    "\n",
    "<code>python .\\preprocess_data.py --raw_data_path '..\\data\\green\\' --dest_path .\\output</code>"
   ]
  },
  {
   "cell_type": "markdown",
   "metadata": {},
   "source": [
    "# Q3\n",
    "\n",
    "Done by running the script <code>train.py</code> using the following terminal command: <br>\n",
    "<code>python .\\train.py</code> <br>\n",
    "\n",
    "\n",
    "The <code>min_sample_split = 2</code>"
   ]
  },
  {
   "cell_type": "markdown",
   "metadata": {},
   "source": [
    "# Q4\n",
    "\n",
    "Done by running the following terminal command: <br>\n",
    "<code>mlflow server --serve-artifacts</code>"
   ]
  },
  {
   "cell_type": "markdown",
   "metadata": {},
   "source": [
    "# Q5"
   ]
  },
  {
   "cell_type": "code",
   "execution_count": 5,
   "metadata": {},
   "outputs": [],
   "source": [
    "# %pip install hyperopt"
   ]
  },
  {
   "cell_type": "markdown",
   "metadata": {},
   "source": [
    "On the validation data we got <code>RMSE = 5.37</code>"
   ]
  },
  {
   "cell_type": "markdown",
   "metadata": {},
   "source": [
    "# Q6\n",
    "\n",
    "For the best model we got on the test data <code>RMSE = 5.599</code>"
   ]
  }
 ],
 "metadata": {
  "kernelspec": {
   "display_name": "mlops",
   "language": "python",
   "name": "python3"
  },
  "language_info": {
   "codemirror_mode": {
    "name": "ipython",
    "version": 3
   },
   "file_extension": ".py",
   "mimetype": "text/x-python",
   "name": "python",
   "nbconvert_exporter": "python",
   "pygments_lexer": "ipython3",
   "version": "3.10.14"
  }
 },
 "nbformat": 4,
 "nbformat_minor": 2
}
